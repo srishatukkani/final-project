{
 "cells": [
  {
   "cell_type": "code",
   "execution_count": 130,
   "id": "b771dcbd-a5f0-43cb-b022-d2da0e26c047",
   "metadata": {},
   "outputs": [],
   "source": [
    "import numpy as np\n",
    "import pandas as pd\n",
    "from sklearn.ensemble import RandomForestRegressor "
   ]
  },
  {
   "cell_type": "code",
   "execution_count": 131,
   "id": "7b936fa0-bde3-4dc8-98a9-a1033ffafac6",
   "metadata": {},
   "outputs": [],
   "source": [
    "train=pd.read_csv(\"train.csv\",delimiter=\",\")\n",
    "test=pd.read_csv(\"test.csv\",delimiter=\",\")"
   ]
  },
  {
   "cell_type": "code",
   "execution_count": 132,
   "id": "29afe5cf-fbcf-41b6-b90a-38e8d1dcfd6c",
   "metadata": {},
   "outputs": [],
   "source": [
    "train1=train[[x for x in train if train[x].count()/len(train) >= 0.3]]\n",
    "del train1['Id']\n"
   ]
  },
  {
   "cell_type": "code",
   "execution_count": 133,
   "id": "667c914c-a32c-426b-9811-f10754156215",
   "metadata": {},
   "outputs": [
    {
     "data": {
      "text/html": [
       "<div>\n",
       "<style scoped>\n",
       "    .dataframe tbody tr th:only-of-type {\n",
       "        vertical-align: middle;\n",
       "    }\n",
       "\n",
       "    .dataframe tbody tr th {\n",
       "        vertical-align: top;\n",
       "    }\n",
       "\n",
       "    .dataframe thead th {\n",
       "        text-align: right;\n",
       "    }\n",
       "</style>\n",
       "<table border=\"1\" class=\"dataframe\">\n",
       "  <thead>\n",
       "    <tr style=\"text-align: right;\">\n",
       "      <th></th>\n",
       "      <th>MSSubClass</th>\n",
       "      <th>LotFrontage</th>\n",
       "      <th>LotArea</th>\n",
       "      <th>OverallQual</th>\n",
       "      <th>OverallCond</th>\n",
       "      <th>YearBuilt</th>\n",
       "      <th>YearRemodAdd</th>\n",
       "      <th>MasVnrArea</th>\n",
       "      <th>BsmtFinSF1</th>\n",
       "      <th>BsmtFinSF2</th>\n",
       "      <th>...</th>\n",
       "      <th>WoodDeckSF</th>\n",
       "      <th>OpenPorchSF</th>\n",
       "      <th>EnclosedPorch</th>\n",
       "      <th>3SsnPorch</th>\n",
       "      <th>ScreenPorch</th>\n",
       "      <th>PoolArea</th>\n",
       "      <th>MiscVal</th>\n",
       "      <th>MoSold</th>\n",
       "      <th>YrSold</th>\n",
       "      <th>SalePrice</th>\n",
       "    </tr>\n",
       "  </thead>\n",
       "  <tbody>\n",
       "    <tr>\n",
       "      <th>0</th>\n",
       "      <td>60</td>\n",
       "      <td>65.0</td>\n",
       "      <td>8450</td>\n",
       "      <td>7</td>\n",
       "      <td>5</td>\n",
       "      <td>2003</td>\n",
       "      <td>2003</td>\n",
       "      <td>196.0</td>\n",
       "      <td>706</td>\n",
       "      <td>0</td>\n",
       "      <td>...</td>\n",
       "      <td>0</td>\n",
       "      <td>61</td>\n",
       "      <td>0</td>\n",
       "      <td>0</td>\n",
       "      <td>0</td>\n",
       "      <td>0</td>\n",
       "      <td>0</td>\n",
       "      <td>2</td>\n",
       "      <td>2008</td>\n",
       "      <td>208500</td>\n",
       "    </tr>\n",
       "    <tr>\n",
       "      <th>1</th>\n",
       "      <td>20</td>\n",
       "      <td>80.0</td>\n",
       "      <td>9600</td>\n",
       "      <td>6</td>\n",
       "      <td>8</td>\n",
       "      <td>1976</td>\n",
       "      <td>1976</td>\n",
       "      <td>0.0</td>\n",
       "      <td>978</td>\n",
       "      <td>0</td>\n",
       "      <td>...</td>\n",
       "      <td>298</td>\n",
       "      <td>0</td>\n",
       "      <td>0</td>\n",
       "      <td>0</td>\n",
       "      <td>0</td>\n",
       "      <td>0</td>\n",
       "      <td>0</td>\n",
       "      <td>5</td>\n",
       "      <td>2007</td>\n",
       "      <td>181500</td>\n",
       "    </tr>\n",
       "    <tr>\n",
       "      <th>2</th>\n",
       "      <td>60</td>\n",
       "      <td>68.0</td>\n",
       "      <td>11250</td>\n",
       "      <td>7</td>\n",
       "      <td>5</td>\n",
       "      <td>2001</td>\n",
       "      <td>2002</td>\n",
       "      <td>162.0</td>\n",
       "      <td>486</td>\n",
       "      <td>0</td>\n",
       "      <td>...</td>\n",
       "      <td>0</td>\n",
       "      <td>42</td>\n",
       "      <td>0</td>\n",
       "      <td>0</td>\n",
       "      <td>0</td>\n",
       "      <td>0</td>\n",
       "      <td>0</td>\n",
       "      <td>9</td>\n",
       "      <td>2008</td>\n",
       "      <td>223500</td>\n",
       "    </tr>\n",
       "    <tr>\n",
       "      <th>3</th>\n",
       "      <td>70</td>\n",
       "      <td>60.0</td>\n",
       "      <td>9550</td>\n",
       "      <td>7</td>\n",
       "      <td>5</td>\n",
       "      <td>1915</td>\n",
       "      <td>1970</td>\n",
       "      <td>0.0</td>\n",
       "      <td>216</td>\n",
       "      <td>0</td>\n",
       "      <td>...</td>\n",
       "      <td>0</td>\n",
       "      <td>35</td>\n",
       "      <td>272</td>\n",
       "      <td>0</td>\n",
       "      <td>0</td>\n",
       "      <td>0</td>\n",
       "      <td>0</td>\n",
       "      <td>2</td>\n",
       "      <td>2006</td>\n",
       "      <td>140000</td>\n",
       "    </tr>\n",
       "    <tr>\n",
       "      <th>4</th>\n",
       "      <td>60</td>\n",
       "      <td>84.0</td>\n",
       "      <td>14260</td>\n",
       "      <td>8</td>\n",
       "      <td>5</td>\n",
       "      <td>2000</td>\n",
       "      <td>2000</td>\n",
       "      <td>350.0</td>\n",
       "      <td>655</td>\n",
       "      <td>0</td>\n",
       "      <td>...</td>\n",
       "      <td>192</td>\n",
       "      <td>84</td>\n",
       "      <td>0</td>\n",
       "      <td>0</td>\n",
       "      <td>0</td>\n",
       "      <td>0</td>\n",
       "      <td>0</td>\n",
       "      <td>12</td>\n",
       "      <td>2008</td>\n",
       "      <td>250000</td>\n",
       "    </tr>\n",
       "  </tbody>\n",
       "</table>\n",
       "<p>5 rows × 37 columns</p>\n",
       "</div>"
      ],
      "text/plain": [
       "   MSSubClass  LotFrontage  LotArea  OverallQual  OverallCond  YearBuilt  \\\n",
       "0          60         65.0     8450            7            5       2003   \n",
       "1          20         80.0     9600            6            8       1976   \n",
       "2          60         68.0    11250            7            5       2001   \n",
       "3          70         60.0     9550            7            5       1915   \n",
       "4          60         84.0    14260            8            5       2000   \n",
       "\n",
       "   YearRemodAdd  MasVnrArea  BsmtFinSF1  BsmtFinSF2  ...  WoodDeckSF  \\\n",
       "0          2003       196.0         706           0  ...           0   \n",
       "1          1976         0.0         978           0  ...         298   \n",
       "2          2002       162.0         486           0  ...           0   \n",
       "3          1970         0.0         216           0  ...           0   \n",
       "4          2000       350.0         655           0  ...         192   \n",
       "\n",
       "   OpenPorchSF  EnclosedPorch  3SsnPorch  ScreenPorch  PoolArea  MiscVal  \\\n",
       "0           61              0          0            0         0        0   \n",
       "1            0              0          0            0         0        0   \n",
       "2           42              0          0            0         0        0   \n",
       "3           35            272          0            0         0        0   \n",
       "4           84              0          0            0         0        0   \n",
       "\n",
       "   MoSold  YrSold  SalePrice  \n",
       "0       2    2008     208500  \n",
       "1       5    2007     181500  \n",
       "2       9    2008     223500  \n",
       "3       2    2006     140000  \n",
       "4      12    2008     250000  \n",
       "\n",
       "[5 rows x 37 columns]"
      ]
     },
     "execution_count": 133,
     "metadata": {},
     "output_type": "execute_result"
    }
   ],
   "source": [
    "train1_num=train1.select_dtypes(include=['float64','int64'])\n",
    "train1_num.head()"
   ]
  },
  {
   "cell_type": "code",
   "execution_count": 134,
   "id": "73cdc2e9-8be1-456e-b5b3-ba08e5a722dc",
   "metadata": {},
   "outputs": [
    {
     "data": {
      "text/plain": [
       "Index(['MSSubClass', 'LotFrontage', 'LotArea', 'OverallQual', 'OverallCond',\n",
       "       'YearBuilt', 'YearRemodAdd', 'MasVnrArea', 'BsmtFinSF1', 'BsmtFinSF2',\n",
       "       'BsmtUnfSF', 'TotalBsmtSF', '1stFlrSF', '2ndFlrSF', 'LowQualFinSF',\n",
       "       'GrLivArea', 'BsmtFullBath', 'BsmtHalfBath', 'FullBath', 'HalfBath',\n",
       "       'BedroomAbvGr', 'KitchenAbvGr', 'TotRmsAbvGrd', 'Fireplaces',\n",
       "       'GarageYrBlt', 'GarageCars', 'GarageArea', 'WoodDeckSF', 'OpenPorchSF',\n",
       "       'EnclosedPorch', '3SsnPorch', 'ScreenPorch', 'PoolArea', 'MiscVal',\n",
       "       'MoSold', 'YrSold', 'SalePrice'],\n",
       "      dtype='object')"
      ]
     },
     "execution_count": 134,
     "metadata": {},
     "output_type": "execute_result"
    }
   ],
   "source": [
    "train1_num.columns"
   ]
  },
  {
   "cell_type": "code",
   "execution_count": 136,
   "id": "f386cd54-2424-451a-b011-3db53f220a82",
   "metadata": {},
   "outputs": [],
   "source": [
    "test1 = test[['MSSubClass', 'LotFrontage', 'LotArea', 'OverallQual', 'OverallCond',\n",
    "       'YearBuilt', 'YearRemodAdd', 'MasVnrArea', 'BsmtFinSF1', 'BsmtFinSF2',\n",
    "       'BsmtUnfSF', 'TotalBsmtSF', '1stFlrSF', '2ndFlrSF', 'LowQualFinSF',\n",
    "       'GrLivArea', 'BsmtFullBath', 'BsmtHalfBath', 'FullBath', 'HalfBath',\n",
    "       'BedroomAbvGr', 'KitchenAbvGr', 'TotRmsAbvGrd', 'Fireplaces',\n",
    "       'GarageYrBlt', 'GarageCars', 'GarageArea', 'WoodDeckSF', 'OpenPorchSF',\n",
    "       'EnclosedPorch', '3SsnPorch', 'ScreenPorch', 'PoolArea', 'MiscVal',\n",
    "       'MoSold', 'YrSold']].copy()"
   ]
  },
  {
   "cell_type": "code",
   "execution_count": 137,
   "id": "62376dcf-a842-486f-8df5-a511f32783c8",
   "metadata": {},
   "outputs": [],
   "source": [
    "train1_corr=train1_num.corr()['SalePrice'][:-1]"
   ]
  },
  {
   "cell_type": "code",
   "execution_count": 138,
   "id": "5bdb2666-a496-4c53-8344-2b2101f359b6",
   "metadata": {},
   "outputs": [
    {
     "data": {
      "text/plain": [
       "OverallQual     0.790982\n",
       "GrLivArea       0.708624\n",
       "GarageCars      0.640409\n",
       "GarageArea      0.623431\n",
       "TotalBsmtSF     0.613581\n",
       "1stFlrSF        0.605852\n",
       "FullBath        0.560664\n",
       "TotRmsAbvGrd    0.533723\n",
       "YearBuilt       0.522897\n",
       "YearRemodAdd    0.507101\n",
       "Name: SalePrice, dtype: float64"
      ]
     },
     "execution_count": 138,
     "metadata": {},
     "output_type": "execute_result"
    }
   ],
   "source": [
    "train1_corr[abs(train1_corr)>0.5].sort_values(ascending=False) "
   ]
  },
  {
   "cell_type": "code",
   "execution_count": 139,
   "id": "8be5449f-81ca-4332-a989-6d7eb68f79f6",
   "metadata": {},
   "outputs": [],
   "source": [
    "X_train=train1_num.iloc[:,:-1]\n",
    "y_train=train1_num.iloc[:,-1]"
   ]
  },
  {
   "cell_type": "code",
   "execution_count": 140,
   "id": "01bd326b-1911-48bd-abc8-1510f015deda",
   "metadata": {},
   "outputs": [
    {
     "name": "stdout",
     "output_type": "stream",
     "text": [
      "<class 'pandas.core.frame.DataFrame'>\n",
      "RangeIndex: 1460 entries, 0 to 1459\n",
      "Data columns (total 36 columns):\n",
      " #   Column         Non-Null Count  Dtype  \n",
      "---  ------         --------------  -----  \n",
      " 0   MSSubClass     1460 non-null   int64  \n",
      " 1   LotFrontage    1201 non-null   float64\n",
      " 2   LotArea        1460 non-null   int64  \n",
      " 3   OverallQual    1460 non-null   int64  \n",
      " 4   OverallCond    1460 non-null   int64  \n",
      " 5   YearBuilt      1460 non-null   int64  \n",
      " 6   YearRemodAdd   1460 non-null   int64  \n",
      " 7   MasVnrArea     1452 non-null   float64\n",
      " 8   BsmtFinSF1     1460 non-null   int64  \n",
      " 9   BsmtFinSF2     1460 non-null   int64  \n",
      " 10  BsmtUnfSF      1460 non-null   int64  \n",
      " 11  TotalBsmtSF    1460 non-null   int64  \n",
      " 12  1stFlrSF       1460 non-null   int64  \n",
      " 13  2ndFlrSF       1460 non-null   int64  \n",
      " 14  LowQualFinSF   1460 non-null   int64  \n",
      " 15  GrLivArea      1460 non-null   int64  \n",
      " 16  BsmtFullBath   1460 non-null   int64  \n",
      " 17  BsmtHalfBath   1460 non-null   int64  \n",
      " 18  FullBath       1460 non-null   int64  \n",
      " 19  HalfBath       1460 non-null   int64  \n",
      " 20  BedroomAbvGr   1460 non-null   int64  \n",
      " 21  KitchenAbvGr   1460 non-null   int64  \n",
      " 22  TotRmsAbvGrd   1460 non-null   int64  \n",
      " 23  Fireplaces     1460 non-null   int64  \n",
      " 24  GarageYrBlt    1379 non-null   float64\n",
      " 25  GarageCars     1460 non-null   int64  \n",
      " 26  GarageArea     1460 non-null   int64  \n",
      " 27  WoodDeckSF     1460 non-null   int64  \n",
      " 28  OpenPorchSF    1460 non-null   int64  \n",
      " 29  EnclosedPorch  1460 non-null   int64  \n",
      " 30  3SsnPorch      1460 non-null   int64  \n",
      " 31  ScreenPorch    1460 non-null   int64  \n",
      " 32  PoolArea       1460 non-null   int64  \n",
      " 33  MiscVal        1460 non-null   int64  \n",
      " 34  MoSold         1460 non-null   int64  \n",
      " 35  YrSold         1460 non-null   int64  \n",
      "dtypes: float64(3), int64(33)\n",
      "memory usage: 410.8 KB\n"
     ]
    }
   ],
   "source": [
    "X_train.info()"
   ]
  },
  {
   "cell_type": "code",
   "execution_count": 141,
   "id": "73516284-1d81-4b83-89b1-353bb4661d7d",
   "metadata": {},
   "outputs": [],
   "source": [
    "def filter(dataset):\n",
    "    for col in dataset.columns:\n",
    "        if dataset[col].dtypes=='object':\n",
    "            dataset[col].fillna(dataset[col].mode()[0],inplace=True)\n",
    "        elif dataset[col].dtypes=='int64' or dataset[col].dtypes=='float64':\n",
    "            dataset[col].fillna(dataset[col].mean(),inplace=True)            \n",
    "\n",
    "    return dataset"
   ]
  },
  {
   "cell_type": "code",
   "execution_count": 142,
   "id": "7c29db8a-edaf-47af-a7e1-35b442cc27a1",
   "metadata": {},
   "outputs": [],
   "source": [
    "X_train=filter(X_train)\n",
    "test1=filter(test1)"
   ]
  },
  {
   "cell_type": "code",
   "execution_count": 143,
   "id": "5ec2a035-c786-41ef-b03a-8c2fd0213409",
   "metadata": {},
   "outputs": [],
   "source": [
    "regressor = RandomForestRegressor(n_estimators = 500, random_state = 0) \n",
    "regressor.fit(X_train, y_train)\n",
    "y_pred = regressor.predict(test1)"
   ]
  },
  {
   "cell_type": "code",
   "execution_count": 144,
   "id": "84580ff4-42b6-4619-837e-16c022316dbe",
   "metadata": {},
   "outputs": [
    {
     "data": {
      "text/plain": [
       "array([127454.564, 156959.2  , 182906.228, ..., 160876.124, 110783.286,\n",
       "       234258.428])"
      ]
     },
     "execution_count": 144,
     "metadata": {},
     "output_type": "execute_result"
    }
   ],
   "source": [
    "y_pred"
   ]
  },
  {
   "cell_type": "code",
   "execution_count": 145,
   "id": "152196aa-0cca-4318-ab64-18ae64f0dcfd",
   "metadata": {},
   "outputs": [],
   "source": [
    "sub_df=pd.read_csv('sample_submission.csv')\n",
    "y_pred=pd.Series(y_pred)\n",
    "datasets=pd.concat([sub_df['Id'],y_pred],axis=1)\n",
    "datasets.columns=['Id','SalePrice']\n",
    "\n",
    "datasets.isnull()\n",
    "datasets.to_csv('sy2.csv',index=False)\n",
    "\n",
    "datasets.head()\n",
    "datasets=pd.concat([sub_df['Id'],y_pred])"
   ]
  },
  {
   "cell_type": "code",
   "execution_count": null,
   "id": "a5353bd6-b74e-4a06-9670-323f7b9b0476",
   "metadata": {},
   "outputs": [],
   "source": []
  }
 ],
 "metadata": {
  "kernelspec": {
   "display_name": "Python 3 (ipykernel)",
   "language": "python",
   "name": "python3"
  },
  "language_info": {
   "codemirror_mode": {
    "name": "ipython",
    "version": 3
   },
   "file_extension": ".py",
   "mimetype": "text/x-python",
   "name": "python",
   "nbconvert_exporter": "python",
   "pygments_lexer": "ipython3",
   "version": "3.8.15"
  }
 },
 "nbformat": 4,
 "nbformat_minor": 5
}
